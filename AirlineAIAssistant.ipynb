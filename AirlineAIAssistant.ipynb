{
 "cells": [
  {
   "cell_type": "markdown",
   "id": "ddfa9ae6-69fe-444a-b994-8c4c5970a7ec",
   "metadata": {},
   "source": [
    "# Project - Airline AI Assistant\n",
    "\n",
    "We'll now bring together what we've learned to make an AI Customer Support assistant for an Airline"
   ]
  },
  {
   "cell_type": "code",
   "execution_count": 1,
   "id": "8b50bbe2-c0b1-49c3-9a5c-1ba7efa2bcb4",
   "metadata": {},
   "outputs": [],
   "source": [
    "# imports\n",
    "\n",
    "import os\n",
    "import json\n",
    "from dotenv import load_dotenv\n",
    "from openai import OpenAI\n",
    "import gradio as gr"
   ]
  },
  {
   "cell_type": "code",
   "execution_count": 2,
   "id": "747e8786-9da8-4342-b6c9-f5f69c2e22ae",
   "metadata": {},
   "outputs": [
    {
     "name": "stdout",
     "output_type": "stream",
     "text": [
      "OpenAI API Key exists and begins sk-proj-\n"
     ]
    }
   ],
   "source": [
    "# Initialization\n",
    "\n",
    "load_dotenv(override=True)\n",
    "\n",
    "openai_api_key = os.getenv('OPENAI_API_KEY')\n",
    "if openai_api_key:\n",
    "    print(f\"OpenAI API Key exists and begins {openai_api_key[:8]}\")\n",
    "else:\n",
    "    print(\"OpenAI API Key not set\")\n",
    "    \n",
    "MODEL = \"gpt-4o-mini\"\n",
    "openai = OpenAI()"
   ]
  },
  {
   "cell_type": "code",
   "execution_count": 3,
   "id": "0a521d84-d07c-49ab-a0df-d6451499ed97",
   "metadata": {},
   "outputs": [],
   "source": [
    "system_message = \"You are a helpful assistant for an Airline called FlightAI. \"\n",
    "system_message += \"Give short, courteous answers, no more than 1 sentence. \"\n",
    "system_message += \"Always be accurate. If you don't know the answer, say so.\""
   ]
  },
  {
   "cell_type": "code",
   "execution_count": 4,
   "id": "61a2a15d-b559-4844-b377-6bd5cb4949f6",
   "metadata": {},
   "outputs": [
    {
     "name": "stdout",
     "output_type": "stream",
     "text": [
      "* Running on local URL:  http://127.0.0.1:7860\n",
      "\n",
      "To create a public link, set `share=True` in `launch()`.\n"
     ]
    },
    {
     "data": {
      "text/html": [
       "<div><iframe src=\"http://127.0.0.1:7860/\" width=\"100%\" height=\"500\" allow=\"autoplay; camera; microphone; clipboard-read; clipboard-write;\" frameborder=\"0\" allowfullscreen></iframe></div>"
      ],
      "text/plain": [
       "<IPython.core.display.HTML object>"
      ]
     },
     "metadata": {},
     "output_type": "display_data"
    },
    {
     "data": {
      "text/plain": []
     },
     "execution_count": 4,
     "metadata": {},
     "output_type": "execute_result"
    }
   ],
   "source": [
    "# This function looks rather simpler than the one from my video, because we're taking advantage of the latest Gradio updates\n",
    "\n",
    "def chat(message, history):\n",
    "    messages = [{\"role\": \"system\", \"content\": system_message}] + history + [{\"role\": \"user\", \"content\": message}]\n",
    "    response = openai.chat.completions.create(model=MODEL, messages=messages)\n",
    "    return response.choices[0].message.content\n",
    "\n",
    "gr.ChatInterface(fn=chat, type=\"messages\").launch()"
   ]
  },
  {
   "cell_type": "markdown",
   "id": "36bedabf-a0a7-4985-ad8e-07ed6a55a3a4",
   "metadata": {},
   "source": [
    "## Tools\n",
    "\n",
    "Tools are an incredibly powerful feature provided by the frontier LLMs.\n",
    "\n",
    "With tools, you can write a function, and have the LLM call that function as part of its response.\n",
    "\n",
    "Sounds almost spooky.. we're giving it the power to run code on our machine?\n",
    "\n",
    "Well, kinda."
   ]
  },
  {
   "cell_type": "code",
   "execution_count": 5,
   "id": "0696acb1-0b05-4dc2-80d5-771be04f1fb2",
   "metadata": {},
   "outputs": [],
   "source": [
    "# Let's start by making a useful function\n",
    "\n",
    "ticket_prices = {\"london\": \"$799\", \"paris\": \"$899\", \"tokyo\": \"$1400\", \"berlin\": \"$499\"}\n",
    "\n",
    "def get_ticket_price(destination_city):\n",
    "    print(f\"Tool get_ticket_price called for {destination_city}\")\n",
    "    city = destination_city.lower()\n",
    "    return ticket_prices.get(city, \"Unknown\")"
   ]
  },
  {
   "cell_type": "code",
   "execution_count": 6,
   "id": "80ca4e09-6287-4d3f-997d-fa6afbcf6c85",
   "metadata": {},
   "outputs": [
    {
     "name": "stdout",
     "output_type": "stream",
     "text": [
      "Tool get_ticket_price called for London\n"
     ]
    },
    {
     "data": {
      "text/plain": [
       "'$799'"
      ]
     },
     "execution_count": 6,
     "metadata": {},
     "output_type": "execute_result"
    }
   ],
   "source": [
    "get_ticket_price(\"London\")"
   ]
  },
  {
   "cell_type": "code",
   "execution_count": 7,
   "id": "4afceded-7178-4c05-8fa6-9f2085e6a344",
   "metadata": {},
   "outputs": [],
   "source": [
    "# There's a particular dictionary structure that's required to describe our function:\n",
    "\n",
    "price_function = {\n",
    "    \"name\": \"get_ticket_price\",\n",
    "    \"description\": \"Get the price of a return ticket to the destination city. Call this whenever you need to know the ticket price, for example when a customer asks 'How much is a ticket to this city'\",\n",
    "    \"parameters\": {\n",
    "        \"type\": \"object\",\n",
    "        \"properties\": {\n",
    "            \"destination_city\": {\n",
    "                \"type\": \"string\",\n",
    "                \"description\": \"The city that the customer wants to travel to\",\n",
    "            },\n",
    "        },\n",
    "        \"required\": [\"destination_city\"],\n",
    "        \"additionalProperties\": False\n",
    "    }\n",
    "}"
   ]
  },
  {
   "cell_type": "code",
   "execution_count": 8,
   "id": "bdca8679-935f-4e7f-97e6-e71a4d4f228c",
   "metadata": {},
   "outputs": [],
   "source": [
    "# And this is included in a list of tools:\n",
    "\n",
    "tools = [{\"type\": \"function\", \"function\": price_function}]"
   ]
  },
  {
   "cell_type": "markdown",
   "id": "c3d3554f-b4e3-4ce7-af6f-68faa6dd2340",
   "metadata": {},
   "source": [
    "## Getting OpenAI to use our Tool\n",
    "\n",
    "There's some fiddly stuff to allow OpenAI \"to call our tool\"\n",
    "\n",
    "What we actually do is give the LLM the opportunity to inform us that it wants us to run the tool.\n",
    "\n",
    "Here's how the new chat function looks:"
   ]
  },
  {
   "cell_type": "code",
   "execution_count": 9,
   "id": "ce9b0744-9c78-408d-b9df-9f6fd9ed78cf",
   "metadata": {},
   "outputs": [],
   "source": [
    "def chat(message, history):\n",
    "    messages = [{\"role\": \"system\", \"content\": system_message}] + history + [{\"role\": \"user\", \"content\": message}]\n",
    "    response = openai.chat.completions.create(model=MODEL, messages=messages, tools=tools)\n",
    "\n",
    "    if response.choices[0].finish_reason==\"tool_calls\":\n",
    "        message = response.choices[0].message\n",
    "        response, city = handle_tool_call(message)\n",
    "        messages.append(message)\n",
    "        messages.append(response)\n",
    "        response = openai.chat.completions.create(model=MODEL, messages=messages)\n",
    "    \n",
    "    return response.choices[0].message.content"
   ]
  },
  {
   "cell_type": "code",
   "execution_count": 10,
   "id": "b0992986-ea09-4912-a076-8e5603ee631f",
   "metadata": {},
   "outputs": [],
   "source": [
    "# We have to write that function handle_tool_call:\n",
    "\n",
    "def handle_tool_call(message):\n",
    "    tool_call = message.tool_calls[0]\n",
    "    arguments = json.loads(tool_call.function.arguments)\n",
    "    city = arguments.get('destination_city')\n",
    "    price = get_ticket_price(city)\n",
    "    response = {\n",
    "        \"role\": \"tool\",\n",
    "        \"content\": json.dumps({\"destination_city\": city,\"price\": price}),\n",
    "        \"tool_call_id\": tool_call.id\n",
    "    }\n",
    "    return response, city"
   ]
  },
  {
   "cell_type": "code",
   "execution_count": 11,
   "id": "f4be8a71-b19e-4c2f-80df-f59ff2661f14",
   "metadata": {},
   "outputs": [
    {
     "name": "stdout",
     "output_type": "stream",
     "text": [
      "* Running on local URL:  http://127.0.0.1:7883\n",
      "\n",
      "To create a public link, set `share=True` in `launch()`.\n"
     ]
    },
    {
     "data": {
      "text/html": [
       "<div><iframe src=\"http://127.0.0.1:7883/\" width=\"100%\" height=\"500\" allow=\"autoplay; camera; microphone; clipboard-read; clipboard-write;\" frameborder=\"0\" allowfullscreen></iframe></div>"
      ],
      "text/plain": [
       "<IPython.core.display.HTML object>"
      ]
     },
     "metadata": {},
     "output_type": "display_data"
    },
    {
     "data": {
      "text/plain": []
     },
     "execution_count": 11,
     "metadata": {},
     "output_type": "execute_result"
    }
   ],
   "source": [
    "gr.ChatInterface(fn=chat, type=\"messages\").launch()"
   ]
  },
  {
   "cell_type": "markdown",
   "id": "473e5b39-da8f-4db1-83ae-dbaca2e9531e",
   "metadata": {},
   "source": [
    "# Let's go multi-modal!!\n",
    "\n",
    "We can use DALL-E-3, the image generation model behind GPT-4o, to make us some images\n",
    "\n",
    "Let's put this in a function called artist.\n",
    "\n",
    "### Price alert: each time I generate an image it costs about 4 cents - don't go crazy with images!"
   ]
  },
  {
   "cell_type": "code",
   "execution_count": 11,
   "id": "2c27c4ba-8ed5-492f-add1-02ce9c81d34c",
   "metadata": {},
   "outputs": [],
   "source": [
    "# Some imports for handling images\n",
    "\n",
    "import base64\n",
    "from io import BytesIO\n",
    "from PIL import Image"
   ]
  },
  {
   "cell_type": "code",
   "execution_count": 12,
   "id": "773a9f11-557e-43c9-ad50-56cbec3a0f8f",
   "metadata": {},
   "outputs": [],
   "source": [
    "def artist(city):\n",
    "    image_response = openai.images.generate(\n",
    "            model=\"dall-e-3\",\n",
    "            prompt=f\"An image representing a vacation in {city}, showing tourist spots and everything unique about {city}, in a vibrant pop-art style\",\n",
    "            size=\"1024x1024\",\n",
    "            n=1,\n",
    "            response_format=\"b64_json\",\n",
    "        )\n",
    "    image_base64 = image_response.data[0].b64_json\n",
    "    image_data = base64.b64decode(image_base64)\n",
    "    return Image.open(BytesIO(image_data))"
   ]
  },
  {
   "cell_type": "code",
   "execution_count": null,
   "id": "d877c453-e7fb-482a-88aa-1a03f976b9e9",
   "metadata": {},
   "outputs": [],
   "source": [
    "image = artist(\"New York City\")\n",
    "display(image)"
   ]
  },
  {
   "cell_type": "markdown",
   "id": "f4975b87-19e9-4ade-a232-9b809ec75c9a",
   "metadata": {},
   "source": [
    "## Audio (NOTE - Audio is optional for this course - feel free to skip Audio if it causes trouble!)\n",
    "\n",
    "And let's make a function talker that uses OpenAI's speech model to generate Audio\n",
    "\n",
    "### Troubleshooting Audio issues\n",
    "\n",
    "If you have any problems running this code below (like a FileNotFound error, or a warning of a missing package), you may need to install FFmpeg, a very popular audio utility.\n",
    "\n",
    "**For PC Users**\n",
    "\n",
    "Detailed instructions are [here](https://chatgpt.com/share/6724efee-6b0c-8012-ac5e-72e2e3885905) and summary instructions:\n",
    "\n",
    "1. Download FFmpeg from the official website: https://ffmpeg.org/download.html\n",
    "\n",
    "2. Extract the downloaded files to a location on your computer (e.g., `C:\\ffmpeg`)\n",
    "\n",
    "3. Add the FFmpeg bin folder to your system PATH:\n",
    "- Right-click on 'This PC' or 'My Computer' and select 'Properties'\n",
    "- Click on 'Advanced system settings'\n",
    "- Click on 'Environment Variables'\n",
    "- Under 'System variables', find and edit 'Path'\n",
    "- Add a new entry with the path to your FFmpeg bin folder (e.g., `C:\\ffmpeg\\bin`)\n",
    "- Restart your command prompt, and within Jupyter Lab do Kernel -> Restart kernel, to pick up the changes\n",
    "\n",
    "4. Open a new command prompt and run this to make sure it's installed OK\n",
    "`ffmpeg -version`\n",
    "\n",
    "**For Mac Users**\n",
    "\n",
    "1. Install homebrew if you don't have it already by running this in a Terminal window and following any instructions:  \n",
    "`/bin/bash -c \"$(curl -fsSL https://raw.githubusercontent.com/Homebrew/install/HEAD/install.sh)\"`\n",
    "\n",
    "2. Then install FFmpeg with `brew install ffmpeg`\n",
    "\n",
    "3. Verify your installation with `ffmpeg -version` and if everything is good, within Jupyter Lab do Kernel -> Restart kernel to pick up the changes\n",
    "\n"
   ]
  },
  {
   "cell_type": "markdown",
   "id": "4cc90e80-c96e-4dd4-b9d6-386fe2b7e797",
   "metadata": {},
   "source": [
    "## To check you now have ffmpeg and can access it here\n",
    "\n",
    "Excecute the next cell to see if you get a version number. (Putting an exclamation mark before something in Jupyter Lab tells it to run it as a terminal command rather than python code).\n",
    "\n",
    "If this doesn't work, you may need to actually save and close down your Jupyter lab, and start it again from a new Terminal window (Mac) or Anaconda prompt (PC), remembering to activate the llms environment. This ensures you pick up ffmpeg.\n",
    "\n",
    "And if that doesn't work, please contact me!"
   ]
  },
  {
   "cell_type": "code",
   "execution_count": 13,
   "id": "7b3be0fb-1d34-4693-ab6f-dbff190afcd7",
   "metadata": {},
   "outputs": [
    {
     "name": "stdout",
     "output_type": "stream",
     "text": [
      "ffmpeg version 7.1.1 Copyright (c) 2000-2025 the FFmpeg developers\n",
      "built with clang version 20.1.1\n",
      "configuration: --prefix=/d/bld/ffmpeg_1743376067054/_h_env/Library --cc=clang.exe --cxx=clang++.exe --nm=llvm-nm --ar=llvm-ar --disable-doc --enable-openssl --enable-demuxer=dash --enable-hardcoded-tables --enable-libfreetype --enable-libharfbuzz --enable-libfontconfig --enable-libopenh264 --enable-libdav1d --ld=lld-link --target-os=win64 --enable-cross-compile --toolchain=msvc --host-cc=clang.exe --extra-libs=ucrt.lib --extra-libs=vcruntime.lib --extra-libs=oldnames.lib --strip=llvm-strip --disable-stripping --host-extralibs= --disable-libopenvino --enable-gpl --enable-libx264 --enable-libx265 --enable-libmp3lame --enable-libaom --enable-libsvtav1 --enable-libxml2 --enable-pic --enable-shared --disable-static --enable-version3 --enable-zlib --enable-libvorbis --enable-libopus --enable-librsvg --enable-ffplay --pkg-config=/d/bld/ffmpeg_1743376067054/_build_env/Library/bin/pkg-config\n",
      "libavutil      59. 39.100 / 59. 39.100\n",
      "libavcodec     61. 19.101 / 61. 19.101\n",
      "libavformat    61.  7.100 / 61.  7.100\n",
      "libavdevice    61.  3.100 / 61.  3.100\n",
      "libavfilter    10.  4.100 / 10.  4.100\n",
      "libswscale      8.  3.100 /  8.  3.100\n",
      "libswresample   5.  3.100 /  5.  3.100\n",
      "libpostproc    58.  3.100 / 58.  3.100\n",
      "ffprobe version 7.1.1 Copyright (c) 2007-2025 the FFmpeg developers\n",
      "built with clang version 20.1.1\n",
      "configuration: --prefix=/d/bld/ffmpeg_1743376067054/_h_env/Library --cc=clang.exe --cxx=clang++.exe --nm=llvm-nm --ar=llvm-ar --disable-doc --enable-openssl --enable-demuxer=dash --enable-hardcoded-tables --enable-libfreetype --enable-libharfbuzz --enable-libfontconfig --enable-libopenh264 --enable-libdav1d --ld=lld-link --target-os=win64 --enable-cross-compile --toolchain=msvc --host-cc=clang.exe --extra-libs=ucrt.lib --extra-libs=vcruntime.lib --extra-libs=oldnames.lib --strip=llvm-strip --disable-stripping --host-extralibs= --disable-libopenvino --enable-gpl --enable-libx264 --enable-libx265 --enable-libmp3lame --enable-libaom --enable-libsvtav1 --enable-libxml2 --enable-pic --enable-shared --disable-static --enable-version3 --enable-zlib --enable-libvorbis --enable-libopus --enable-librsvg --enable-ffplay --pkg-config=/d/bld/ffmpeg_1743376067054/_build_env/Library/bin/pkg-config\n",
      "libavutil      59. 39.100 / 59. 39.100\n",
      "libavcodec     61. 19.101 / 61. 19.101\n",
      "libavformat    61.  7.100 / 61.  7.100\n",
      "libavdevice    61.  3.100 / 61.  3.100\n",
      "libavfilter    10.  4.100 / 10.  4.100\n",
      "libswscale      8.  3.100 /  8.  3.100\n",
      "libswresample   5.  3.100 /  5.  3.100\n",
      "libpostproc    58.  3.100 / 58.  3.100\n",
      "ffplay version 7.1.1 Copyright (c) 2003-2025 the FFmpeg developers\n",
      "built with clang version 20.1.1\n",
      "configuration: --prefix=/d/bld/ffmpeg_1743376067054/_h_env/Library --cc=clang.exe --cxx=clang++.exe --nm=llvm-nm --ar=llvm-ar --disable-doc --enable-openssl --enable-demuxer=dash --enable-hardcoded-tables --enable-libfreetype --enable-libharfbuzz --enable-libfontconfig --enable-libopenh264 --enable-libdav1d --ld=lld-link --target-os=win64 --enable-cross-compile --toolchain=msvc --host-cc=clang.exe --extra-libs=ucrt.lib --extra-libs=vcruntime.lib --extra-libs=oldnames.lib --strip=llvm-strip --disable-stripping --host-extralibs= --disable-libopenvino --enable-gpl --enable-libx264 --enable-libx265 --enable-libmp3lame --enable-libaom --enable-libsvtav1 --enable-libxml2 --enable-pic --enable-shared --disable-static --enable-version3 --enable-zlib --enable-libvorbis --enable-libopus --enable-librsvg --enable-ffplay --pkg-config=/d/bld/ffmpeg_1743376067054/_build_env/Library/bin/pkg-config\n",
      "libavutil      59. 39.100 / 59. 39.100\n",
      "libavcodec     61. 19.101 / 61. 19.101\n",
      "libavformat    61.  7.100 / 61.  7.100\n",
      "libavdevice    61.  3.100 / 61.  3.100\n",
      "libavfilter    10.  4.100 / 10.  4.100\n",
      "libswscale      8.  3.100 /  8.  3.100\n",
      "libswresample   5.  3.100 /  5.  3.100\n",
      "libpostproc    58.  3.100 / 58.  3.100\n"
     ]
    }
   ],
   "source": [
    "!ffmpeg -version\n",
    "!ffprobe -version\n",
    "!ffplay -version"
   ]
  },
  {
   "cell_type": "markdown",
   "id": "d91d3f8f-e505-4e3c-a87c-9e42ed823db6",
   "metadata": {},
   "source": [
    "# For Mac users - and possibly many PC users too\n",
    "\n",
    "This version should work fine for you. It might work for Windows users too, but you might get a Permissions error writing to a temp file. If so, see the next section!\n",
    "\n",
    "As always, if you have problems, please contact me! (You could also comment out the audio talker() in the later code if you're less interested in audio generation)"
   ]
  },
  {
   "cell_type": "code",
   "execution_count": null,
   "id": "ffbfe93b-5e86-4e68-ba71-b301cd5230db",
   "metadata": {},
   "outputs": [],
   "source": [
    "from pydub import AudioSegment\n",
    "from pydub.playback import play\n",
    "\n",
    "def talker(message):\n",
    "    response = openai.audio.speech.create(\n",
    "      model=\"tts-1\",\n",
    "      voice=\"onyx\",    # Also, try replacing onyx with alloy\n",
    "      input=message\n",
    "    )\n",
    "    \n",
    "    audio_stream = BytesIO(response.content)\n",
    "    audio = AudioSegment.from_file(audio_stream, format=\"mp3\")\n",
    "    play(audio)"
   ]
  },
  {
   "cell_type": "code",
   "execution_count": null,
   "id": "b88d775d-d357-4292-a1ad-5dc5ed567281",
   "metadata": {},
   "outputs": [],
   "source": [
    "talker(\"Well, hi there\")"
   ]
  },
  {
   "cell_type": "markdown",
   "id": "ad89a9bd-bb1e-4bbb-a49a-83af5f500c24",
   "metadata": {},
   "source": [
    "# For Windows users (or any Mac users with problems above)\n",
    "\n",
    "## First try the Mac version above, but if you get a permissions error writing to a temp file, then this code should work instead.\n",
    "\n",
    "A collaboration between students Mark M. and Patrick H. and Claude got this resolved!\n",
    "\n",
    "Below are 4 variations - hopefully one of them will work on your PC. If not, message me please!\n",
    "\n",
    "And for Mac people - all 3 of the below work on my Mac too - please try these if the Mac version gave you problems.\n",
    "\n",
    "## PC Variation 1"
   ]
  },
  {
   "cell_type": "code",
   "execution_count": 14,
   "id": "d104b96a-02ca-4159-82fe-88e0452aa479",
   "metadata": {},
   "outputs": [
    {
     "data": {
      "text/html": [
       "\n",
       "                <audio  controls=\"controls\" autoplay=\"autoplay\">\n",
       "                    <source src=\"data:audio/mpeg;base64,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\" type=\"audio/mpeg\" />\n",
       "                    Your browser does not support the audio element.\n",
       "                </audio>\n",
       "              "
      ],
      "text/plain": [
       "<IPython.lib.display.Audio object>"
      ]
     },
     "metadata": {},
     "output_type": "display_data"
    }
   ],
   "source": [
    "import base64\n",
    "from io import BytesIO\n",
    "from PIL import Image\n",
    "from IPython.display import Audio, display\n",
    "\n",
    "def talker(message):\n",
    "    response = openai.audio.speech.create(\n",
    "        model=\"tts-1\",\n",
    "        voice=\"onyx\",\n",
    "        input=message)\n",
    "\n",
    "    audio_stream = BytesIO(response.content)\n",
    "    output_filename = \"output_audio.mp3\"\n",
    "    with open(output_filename, \"wb\") as f:\n",
    "        f.write(audio_stream.read())\n",
    "\n",
    "    # Play the generated audio\n",
    "    display(Audio(output_filename, autoplay=True))\n",
    "\n",
    "talker(\"Well, hi there\")"
   ]
  },
  {
   "cell_type": "markdown",
   "id": "3a5d11f4-bbd3-43a1-904d-f684eb5f3e3a",
   "metadata": {},
   "source": [
    "## PC Variation 2"
   ]
  },
  {
   "cell_type": "code",
   "execution_count": 14,
   "id": "d59c8ebd-79c5-498a-bdf2-3a1c50d91aa0",
   "metadata": {},
   "outputs": [],
   "source": [
    "import tempfile\n",
    "import subprocess\n",
    "from io import BytesIO\n",
    "from pydub import AudioSegment\n",
    "import time\n",
    "\n",
    "def play_audio(audio_segment):\n",
    "    temp_dir = tempfile.gettempdir()\n",
    "    temp_path = os.path.join(temp_dir, \"temp_audio.wav\")\n",
    "    try:\n",
    "        audio_segment.export(temp_path, format=\"wav\")\n",
    "        time.sleep(3) # Student Dominic found that this was needed. You could also try commenting out to see if not needed on your PC\n",
    "        subprocess.call([\n",
    "            \"ffplay\",\n",
    "            \"-nodisp\",\n",
    "            \"-autoexit\",\n",
    "            \"-hide_banner\",\n",
    "            temp_path\n",
    "        ], stdout=subprocess.DEVNULL, stderr=subprocess.DEVNULL)\n",
    "    finally:\n",
    "        try:\n",
    "            os.remove(temp_path)\n",
    "        except Exception:\n",
    "            pass\n",
    " \n",
    "def talker(message):\n",
    "    response = openai.audio.speech.create(\n",
    "        model=\"tts-1\",\n",
    "        voice=\"onyx\",  # Also, try replacing onyx with alloy\n",
    "        input=message\n",
    "    )\n",
    "    audio_stream = BytesIO(response.content)\n",
    "    audio = AudioSegment.from_file(audio_stream, format=\"mp3\")\n",
    "    play_audio(audio)\n",
    "\n",
    "talker(\"Well hi there\")"
   ]
  },
  {
   "cell_type": "markdown",
   "id": "e821224c-b069-4f9b-9535-c15fdb0e411c",
   "metadata": {},
   "source": [
    "## PC Variation 4\n",
    "\n",
    "### Let's try a completely different sound library\n",
    "\n",
    "First run the next cell to install a new library, then try the cell below it."
   ]
  },
  {
   "cell_type": "code",
   "execution_count": 17,
   "id": "69d3c0d9-afcc-49e3-b829-9c9869d8b472",
   "metadata": {},
   "outputs": [
    {
     "name": "stdout",
     "output_type": "stream",
     "text": [
      "Collecting simpleaudio\n",
      "  Downloading simpleaudio-1.0.4.tar.gz (2.0 MB)\n",
      "     ---------------------------------------- 0.0/2.0 MB ? eta -:--:--\n",
      "     ----- ---------------------------------- 0.3/2.0 MB ? eta -:--:--\n",
      "     ------------------------- -------------- 1.3/2.0 MB 4.0 MB/s eta 0:00:01\n",
      "     ---------------------------------------- 2.0/2.0 MB 4.6 MB/s eta 0:00:00\n",
      "  Preparing metadata (setup.py): started\n",
      "  Preparing metadata (setup.py): finished with status 'done'\n",
      "Building wheels for collected packages: simpleaudio\n",
      "  Building wheel for simpleaudio (setup.py): started\n",
      "  Building wheel for simpleaudio (setup.py): finished with status 'done'\n",
      "  Created wheel for simpleaudio: filename=simpleaudio-1.0.4-cp311-cp311-win_amd64.whl size=2039375 sha256=3ede1dd3aaaf1dac5dcec3213d816712882a42d2a55424ca87e85e14586135a3\n",
      "  Stored in directory: c:\\users\\alice\\appdata\\local\\pip\\cache\\wheels\\44\\74\\11\\9d2cf6ddf5d0dcc7750484a371b92fdb036f5496d1d4b42d08\n",
      "Successfully built simpleaudio\n",
      "Installing collected packages: simpleaudio\n",
      "Successfully installed simpleaudio-1.0.4\n"
     ]
    }
   ],
   "source": [
    "!pip install simpleaudio"
   ]
  },
  {
   "cell_type": "code",
   "execution_count": 18,
   "id": "28f9cc99-36b7-4554-b3f4-f2012f614a13",
   "metadata": {},
   "outputs": [],
   "source": [
    "from pydub import AudioSegment\n",
    "from io import BytesIO\n",
    "import tempfile\n",
    "import os\n",
    "import simpleaudio as sa\n",
    "\n",
    "def talker(message):\n",
    "    response = openai.audio.speech.create(\n",
    "        model=\"tts-1\",\n",
    "        voice=\"onyx\",  # Also, try replacing onyx with alloy\n",
    "        input=message\n",
    "    )\n",
    "    \n",
    "    audio_stream = BytesIO(response.content)\n",
    "    audio = AudioSegment.from_file(audio_stream, format=\"mp3\")\n",
    "\n",
    "    # Create a temporary file in a folder where you have write permissions\n",
    "    with tempfile.NamedTemporaryFile(suffix=\".wav\", delete=False, dir=os.path.expanduser(\"~/Documents\")) as temp_audio_file:\n",
    "        temp_file_name = temp_audio_file.name\n",
    "        audio.export(temp_file_name, format=\"wav\")\n",
    "    \n",
    "    # Load and play audio using simpleaudio\n",
    "    wave_obj = sa.WaveObject.from_wave_file(temp_file_name)\n",
    "    play_obj = wave_obj.play()\n",
    "    play_obj.wait_done()  # Wait for playback to finish\n",
    "\n",
    "    # Clean up the temporary file afterward\n",
    "    os.remove(temp_file_name)\n",
    "    \n",
    "talker(\"Well hi there\")"
   ]
  },
  {
   "cell_type": "markdown",
   "id": "1d48876d-c4fa-46a8-a04f-f9fadf61fb0d",
   "metadata": {},
   "source": [
    "# Our Agent Framework\n",
    "\n",
    "The term 'Agentic AI' and Agentization is an umbrella term that refers to a number of techniques, such as:\n",
    "\n",
    "1. Breaking a complex problem into smaller steps, with multiple LLMs carrying out specialized tasks\n",
    "2. The ability for LLMs to use Tools to give them additional capabilities\n",
    "3. The 'Agent Environment' which allows Agents to collaborate\n",
    "4. An LLM can act as the Planner, dividing bigger tasks into smaller ones for the specialists\n",
    "5. The concept of an Agent having autonomy / agency, beyond just responding to a prompt - such as Memory\n",
    "\n",
    "We're showing 1 and 2 here, and to a lesser extent 3 and 5. "
   ]
  },
  {
   "cell_type": "code",
   "execution_count": 19,
   "id": "ba820c95-02f5-499e-8f3c-8727ee0a6c0c",
   "metadata": {},
   "outputs": [],
   "source": [
    "def chat(history):\n",
    "    messages = [{\"role\": \"system\", \"content\": system_message}] + history\n",
    "    response = openai.chat.completions.create(model=MODEL, messages=messages, tools=tools)\n",
    "    image = None\n",
    "    \n",
    "    if response.choices[0].finish_reason==\"tool_calls\":\n",
    "        message = response.choices[0].message\n",
    "        response, city = handle_tool_call(message)\n",
    "        messages.append(message)\n",
    "        messages.append(response)\n",
    "        image = artist(city)\n",
    "        response = openai.chat.completions.create(model=MODEL, messages=messages)\n",
    "        \n",
    "    reply = response.choices[0].message.content\n",
    "    history += [{\"role\":\"assistant\", \"content\":reply}]\n",
    "\n",
    "    # Comment out or delete the next line if you'd rather skip Audio for now..\n",
    "    talker(reply)\n",
    "    \n",
    "    return history, image"
   ]
  },
  {
   "cell_type": "code",
   "execution_count": 20,
   "id": "f38d0d27-33bf-4992-a2e5-5dbed973cde7",
   "metadata": {},
   "outputs": [
    {
     "name": "stdout",
     "output_type": "stream",
     "text": [
      "* Running on local URL:  http://127.0.0.1:7861\n",
      "\n",
      "To create a public link, set `share=True` in `launch()`.\n"
     ]
    },
    {
     "data": {
      "text/html": [
       "<div><iframe src=\"http://127.0.0.1:7861/\" width=\"100%\" height=\"500\" allow=\"autoplay; camera; microphone; clipboard-read; clipboard-write;\" frameborder=\"0\" allowfullscreen></iframe></div>"
      ],
      "text/plain": [
       "<IPython.core.display.HTML object>"
      ]
     },
     "metadata": {},
     "output_type": "display_data"
    },
    {
     "data": {
      "text/plain": []
     },
     "execution_count": 20,
     "metadata": {},
     "output_type": "execute_result"
    },
    {
     "name": "stdout",
     "output_type": "stream",
     "text": [
      "Tool get_ticket_price called for London\n"
     ]
    }
   ],
   "source": [
    "# More involved Gradio code as we're not using the preset Chat interface!\n",
    "# Passing in inbrowser=True in the last line will cause a Gradio window to pop up immediately.\n",
    "\n",
    "with gr.Blocks() as ui:\n",
    "    with gr.Row():\n",
    "        chatbot = gr.Chatbot(height=500, type=\"messages\")\n",
    "        image_output = gr.Image(height=500)\n",
    "    with gr.Row():\n",
    "        entry = gr.Textbox(label=\"Chat with our AI Assistant:\")\n",
    "    with gr.Row():\n",
    "        clear = gr.Button(\"Clear\")\n",
    "\n",
    "    def do_entry(message, history):\n",
    "        history += [{\"role\":\"user\", \"content\":message}]\n",
    "        return \"\", history\n",
    "\n",
    "    entry.submit(do_entry, inputs=[entry, chatbot], outputs=[entry, chatbot]).then(\n",
    "        chat, inputs=chatbot, outputs=[chatbot, image_output]\n",
    "    )\n",
    "    clear.click(lambda: None, inputs=None, outputs=chatbot, queue=False)\n",
    "\n",
    "ui.launch(inbrowser=True)"
   ]
  },
  {
   "cell_type": "markdown",
   "id": "7e795560-1867-42db-a256-a23b844e6fbe",
   "metadata": {},
   "source": [
    "<table style=\"margin: 0; text-align: left;\">\n",
    "    <tr>\n",
    "        <td style=\"width: 150px; height: 150px; vertical-align: middle;\">\n",
    "            <img src=\"../thankyou.jpg\" width=\"150\" height=\"150\" style=\"display: block;\" />\n",
    "        </td>\n",
    "        <td>\n",
    "            <h2 style=\"color:#090;\">I have a special request for you</h2>\n",
    "            <span style=\"color:#090;\">\n",
    "                My editor tells me that it makes a HUGE difference when students rate this course on Udemy - it's one of the main ways that Udemy decides whether to show it to others. If you're able to take a minute to rate this, I'd be so very grateful! And regardless - always please reach out to me at ed@edwarddonner.com if I can help at any point.\n",
    "            </span>\n",
    "        </td>\n",
    "    </tr>\n",
    "</table>"
   ]
  }
 ],
 "metadata": {
  "kernelspec": {
   "display_name": "Python 3 (ipykernel)",
   "language": "python",
   "name": "python3"
  },
  "language_info": {
   "codemirror_mode": {
    "name": "ipython",
    "version": 3
   },
   "file_extension": ".py",
   "mimetype": "text/x-python",
   "name": "python",
   "nbconvert_exporter": "python",
   "pygments_lexer": "ipython3",
   "version": "3.11.11"
  }
 },
 "nbformat": 4,
 "nbformat_minor": 5
}
